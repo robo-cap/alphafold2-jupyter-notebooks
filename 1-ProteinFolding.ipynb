{
 "cells": [
  {
   "cell_type": "markdown",
   "id": "023148a8-efd0-44f6-a285-e22d9a20c53f",
   "metadata": {},
   "source": [
    "# Protein Folding with AlphaFold2\n",
    "\n",
    "Source: https://github.com/NVIDIA-NIM-Agent-Blueprints/generative-virtual-screening/blob/main/src/generative-virtual-screening.ipynb\n",
    "\n",
    "AlphaFold2 is a generative, transformer-based model that translates protein sequences into protein structures.\n",
    "\n",
    "We choose the SARS-CoV-2 main protease as our starting sequence. We query the AlphaFold2 endpoint with this sequence and the model returns the predicted protein structure.\n",
    "\n",
    "Please note that this step may take ~15-20 minutes to be finished (depending on the GPU type)."
   ]
  },
  {
   "cell_type": "code",
   "execution_count": 4,
   "id": "7f11a87b-1046-4549-a038-f4a1f8f4c658",
   "metadata": {},
   "outputs": [],
   "source": [
    "import requests\n",
    "\n",
    "AF2_HOST = 'http://alphafold2:8000'\n"
   ]
  },
  {
   "cell_type": "code",
   "execution_count": null,
   "id": "f2f315ac-2cac-4ffd-b53c-517281d880b9",
   "metadata": {},
   "outputs": [],
   "source": [
    "# SARS CoV-2 main protease sequence\n",
    "protein = \"SGFRKMAFPSGKVEGCMVQVTCGTTTLNGLWLDDVVYCPRHVICTSEDMLNPNYEDLLIRKSNHNFLVQAGNVQLRVIGHSMQNCVLKLKVDTANPKTPKYKFVRIQPGQTFSVLACYNGSPSGVYQCAMRPNFTIKGSFLNGSCGSVGFNIDYDCVSFCYMHHMELPTGVHAGTDLEGNFYGPFVDRQTAQAAGTDTTITVNVLAWLYAAVINGDRWFLNRFTTTLNDFNLVAMKYNYEPLTQDHVDILGPLSAQTGIAVLDMCASLKELLQNGMNGRTILGSALLEDEFTPFDVVRQCSGVTFQ\""
   ]
  },
  {
   "cell_type": "code",
   "execution_count": null,
   "id": "df1afde3-9a1d-4bf7-9904-206733d8c48d",
   "metadata": {},
   "outputs": [],
   "source": [
    "# Query AlphaFold2 with sequence above\n",
    "af2_response = requests.post(\n",
    "    f'{AF2_HOST}/protein-structure/alphafold2/predict-structure-from-sequence',\n",
    "    json={\n",
    "        'sequence': protein,\n",
    "        'databases': ['uniref90', 'mgnify', 'small_bfd'],\n",
    "        'msa_algorithm': 'jackhmmer',\n",
    "        'e_value': 0.0001,\n",
    "        'bit_score': -1, # -1 means to fallback to the e-value\n",
    "        'msa_iterations': 1,\n",
    "        'relax_prediction': True,\n",
    "    }).json()"
   ]
  },
  {
   "cell_type": "code",
   "execution_count": null,
   "id": "8a7e6e2a-1d6a-4a43-acc8-bf115f353112",
   "metadata": {},
   "outputs": [],
   "source": [
    "# Receive protein structure for SARS CoV-2 protease\n",
    "folded_protein = af2_response[0]"
   ]
  },
  {
   "cell_type": "code",
   "execution_count": null,
   "id": "fa959d92-1f90-4429-be26-facf66a35483",
   "metadata": {},
   "outputs": [],
   "source": [
    "print(folded_protein[:483])"
   ]
  }
 ],
 "metadata": {
  "kernelspec": {
   "display_name": "Python 3 (ipykernel)",
   "language": "python",
   "name": "python3"
  },
  "language_info": {
   "codemirror_mode": {
    "name": "ipython",
    "version": 3
   },
   "file_extension": ".py",
   "mimetype": "text/x-python",
   "name": "python",
   "nbconvert_exporter": "python",
   "pygments_lexer": "ipython3",
   "version": "3.11.6"
  }
 },
 "nbformat": 4,
 "nbformat_minor": 5
}
